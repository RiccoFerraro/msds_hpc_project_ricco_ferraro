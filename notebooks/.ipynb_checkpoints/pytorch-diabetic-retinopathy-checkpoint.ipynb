{
 "cells": [
  {
   "cell_type": "markdown",
   "metadata": {},
   "source": [
    "Lets work with sample data."
   ]
  },
  {
   "cell_type": "code",
   "execution_count": 5,
   "metadata": {},
   "outputs": [
    {
     "name": "stdout",
     "output_type": "stream",
     "text": [
      "certifi==2022.6.15\n",
      "charset-normalizer==2.1.0\n",
      "idna==3.3\n",
      "kaggle==1.5.12\n",
      "numpy==1.23.1\n",
      "pandas==1.4.3\n",
      "Pillow==9.2.0\n",
      "python-dateutil==2.8.2\n",
      "python-slugify==6.1.2\n",
      "pytz==2022.1\n",
      "requests==2.28.1\n",
      "six==1.16.0\n",
      "text-unidecode==1.3\n",
      "torch==1.12.0\n",
      "torchvision==0.13.0\n",
      "tqdm==4.64.0\n",
      "typing_extensions==4.3.0\n",
      "urllib3==1.26.10\n"
     ]
    }
   ],
   "source": [
    "!pip freeze"
   ]
  },
  {
   "cell_type": "code",
   "execution_count": 7,
   "metadata": {},
   "outputs": [
    {
     "ename": "ModuleNotFoundError",
     "evalue": "No module named 'pandas'",
     "output_type": "error",
     "traceback": [
      "\u001b[0;31m---------------------------------------------------------------------------\u001b[0m",
      "\u001b[0;31mModuleNotFoundError\u001b[0m                       Traceback (most recent call last)",
      "\u001b[0;32m<ipython-input-7-1ef439b8ac6e>\u001b[0m in \u001b[0;36m<module>\u001b[0;34m\u001b[0m\n\u001b[0;32m----> 1\u001b[0;31m \u001b[0;32mimport\u001b[0m \u001b[0mpandas\u001b[0m \u001b[0;32mas\u001b[0m \u001b[0mpd\u001b[0m\u001b[0;34m\u001b[0m\u001b[0;34m\u001b[0m\u001b[0m\n\u001b[0m\u001b[1;32m      2\u001b[0m \u001b[0;32mfrom\u001b[0m \u001b[0mtorch\u001b[0m\u001b[0;34m.\u001b[0m\u001b[0mutils\u001b[0m\u001b[0;34m.\u001b[0m\u001b[0mdata\u001b[0m \u001b[0;32mimport\u001b[0m \u001b[0mDataset\u001b[0m\u001b[0;34m,\u001b[0m \u001b[0mDataLoader\u001b[0m\u001b[0;34m\u001b[0m\u001b[0;34m\u001b[0m\u001b[0m\n",
      "\u001b[0;31mModuleNotFoundError\u001b[0m: No module named 'pandas'"
     ]
    }
   ],
   "source": [
    "import pandas as pd\n",
    "from torch.utils.data import Dataset, DataLoader"
   ]
  },
  {
   "cell_type": "code",
   "execution_count": 3,
   "metadata": {},
   "outputs": [],
   "source": [
    "# !unzip ../input/diabetic-retinopathy-detection/sample.zip\n",
    "# !unzip ../input/diabetic-retinopathy-detection/sampleSubmission.csv.zip"
   ]
  },
  {
   "cell_type": "code",
   "execution_count": 4,
   "metadata": {},
   "outputs": [],
   "source": [
    "# ! dir sample"
   ]
  },
  {
   "cell_type": "code",
   "execution_count": null,
   "metadata": {
    "execution": {
     "iopub.execute_input": "2021-06-13T03:20:05.420297Z",
     "iopub.status.busy": "2021-06-13T03:20:05.419763Z",
     "iopub.status.idle": "2021-06-13T03:20:05.432647Z",
     "shell.execute_reply": "2021-06-13T03:20:05.43186Z",
     "shell.execute_reply.started": "2021-06-13T03:20:05.420264Z"
    }
   },
   "outputs": [],
   "source": [
    "# !unzip ../input/diabetic-retinopathy-detection/trainLabels.csv.zip"
   ]
  },
  {
   "cell_type": "code",
   "execution_count": null,
   "metadata": {
    "execution": {
     "iopub.execute_input": "2021-06-13T03:20:05.434318Z",
     "iopub.status.busy": "2021-06-13T03:20:05.433936Z",
     "iopub.status.idle": "2021-06-13T03:20:05.445316Z",
     "shell.execute_reply": "2021-06-13T03:20:05.444388Z",
     "shell.execute_reply.started": "2021-06-13T03:20:05.43429Z"
    }
   },
   "outputs": [],
   "source": [
    "# from PIL import Image\n",
    "\n",
    "# img = Image.open(\"./sample/16_right.jpeg\")\n",
    "\n",
    "# import matplotlib.pyplot as plt\n",
    "\n",
    "# plt.imshow(img)"
   ]
  },
  {
   "cell_type": "markdown",
   "metadata": {},
   "source": [
    "But there are no labels!"
   ]
  },
  {
   "cell_type": "code",
   "execution_count": null,
   "metadata": {
    "execution": {
     "iopub.execute_input": "2021-06-13T03:20:05.446981Z",
     "iopub.status.busy": "2021-06-13T03:20:05.446581Z",
     "iopub.status.idle": "2021-06-13T03:20:05.460014Z",
     "shell.execute_reply": "2021-06-13T03:20:05.458533Z",
     "shell.execute_reply.started": "2021-06-13T03:20:05.446946Z"
    }
   },
   "outputs": [],
   "source": [
    "# import pandas as pd\n",
    "\n",
    "# pd.read_csv(\"./trainLabels.csv\")"
   ]
  },
  {
   "cell_type": "markdown",
   "metadata": {},
   "source": [
    "Lets get the first train file"
   ]
  },
  {
   "cell_type": "code",
   "execution_count": null,
   "metadata": {
    "execution": {
     "iopub.execute_input": "2021-06-13T03:20:05.462281Z",
     "iopub.status.busy": "2021-06-13T03:20:05.461829Z",
     "iopub.status.idle": "2021-06-13T03:20:05.475553Z",
     "shell.execute_reply": "2021-06-13T03:20:05.474439Z",
     "shell.execute_reply.started": "2021-06-13T03:20:05.462233Z"
    }
   },
   "outputs": [],
   "source": [
    "#!mv ../input/diabetic-retinopathy-detection/train.zip.001 ./train1.zip"
   ]
  },
  {
   "cell_type": "code",
   "execution_count": null,
   "metadata": {
    "execution": {
     "iopub.execute_input": "2021-06-13T03:20:05.477574Z",
     "iopub.status.busy": "2021-06-13T03:20:05.477118Z",
     "iopub.status.idle": "2021-06-13T03:20:05.487707Z",
     "shell.execute_reply": "2021-06-13T03:20:05.486537Z",
     "shell.execute_reply.started": "2021-06-13T03:20:05.477524Z"
    }
   },
   "outputs": [],
   "source": [
    "# !unzip train1.zip\n",
    "\n",
    "# I guess we need to find something else altogether"
   ]
  },
  {
   "cell_type": "markdown",
   "metadata": {},
   "source": [
    "# New dataset , diabetic-retinopathy-resized"
   ]
  },
  {
   "cell_type": "code",
   "execution_count": null,
   "metadata": {
    "execution": {
     "iopub.execute_input": "2021-06-13T03:20:05.490682Z",
     "iopub.status.busy": "2021-06-13T03:20:05.490203Z",
     "iopub.status.idle": "2021-06-13T03:20:05.533587Z",
     "shell.execute_reply": "2021-06-13T03:20:05.532257Z",
     "shell.execute_reply.started": "2021-06-13T03:20:05.490635Z"
    }
   },
   "outputs": [],
   "source": [
    "pd.read_csv(\"../input/diabetic-retinopathy-resized/trainLabels.csv\")['level'].unique()\n",
    "\n",
    "# classes"
   ]
  },
  {
   "cell_type": "code",
   "execution_count": null,
   "metadata": {
    "execution": {
     "iopub.execute_input": "2021-06-13T03:20:05.536206Z",
     "iopub.status.busy": "2021-06-13T03:20:05.535779Z",
     "iopub.status.idle": "2021-06-13T03:20:05.573576Z",
     "shell.execute_reply": "2021-06-13T03:20:05.572516Z",
     "shell.execute_reply.started": "2021-06-13T03:20:05.53616Z"
    }
   },
   "outputs": [],
   "source": [
    "import os\n",
    "cropped = pd.read_csv(\"../input/diabetic-retinopathy-resized/trainLabels_cropped.csv\")[:5000]"
   ]
  },
  {
   "cell_type": "code",
   "execution_count": null,
   "metadata": {
    "execution": {
     "iopub.execute_input": "2021-06-13T03:20:05.57581Z",
     "iopub.status.busy": "2021-06-13T03:20:05.575351Z",
     "iopub.status.idle": "2021-06-13T03:20:05.584431Z",
     "shell.execute_reply": "2021-06-13T03:20:05.583474Z",
     "shell.execute_reply.started": "2021-06-13T03:20:05.575766Z"
    }
   },
   "outputs": [],
   "source": [
    "cropped.iloc[0]"
   ]
  },
  {
   "cell_type": "code",
   "execution_count": null,
   "metadata": {
    "execution": {
     "iopub.execute_input": "2021-06-13T03:20:05.587034Z",
     "iopub.status.busy": "2021-06-13T03:20:05.586724Z",
     "iopub.status.idle": "2021-06-13T03:20:05.634312Z",
     "shell.execute_reply": "2021-06-13T03:20:05.633141Z",
     "shell.execute_reply.started": "2021-06-13T03:20:05.586996Z"
    }
   },
   "outputs": [],
   "source": [
    "image_names = os.listdir(\"../input/diabetic-retinopathy-resized/resized_train_cropped/resized_train_cropped/\")\n",
    "image_names.sort()\n",
    "image_names[:5]"
   ]
  },
  {
   "cell_type": "code",
   "execution_count": null,
   "metadata": {
    "execution": {
     "iopub.execute_input": "2021-06-13T03:20:05.636378Z",
     "iopub.status.busy": "2021-06-13T03:20:05.636096Z",
     "iopub.status.idle": "2021-06-13T03:20:05.645381Z",
     "shell.execute_reply": "2021-06-13T03:20:05.644099Z",
     "shell.execute_reply.started": "2021-06-13T03:20:05.63635Z"
    }
   },
   "outputs": [],
   "source": [
    "images_path = \"../input/diabetic-retinopathy-resized/resized_train_cropped/resized_train_cropped\"\n",
    "img_path = os.path.join(images_path, cropped.iloc[3500].image+\".jpeg\")\n",
    "img_path"
   ]
  },
  {
   "cell_type": "code",
   "execution_count": null,
   "metadata": {
    "execution": {
     "iopub.execute_input": "2021-06-13T03:20:05.647203Z",
     "iopub.status.busy": "2021-06-13T03:20:05.646886Z",
     "iopub.status.idle": "2021-06-13T03:20:05.936286Z",
     "shell.execute_reply": "2021-06-13T03:20:05.935223Z",
     "shell.execute_reply.started": "2021-06-13T03:20:05.647164Z"
    }
   },
   "outputs": [],
   "source": [
    "img = Image.open(img_path)\n",
    "\n",
    "plt.imshow(img)\n",
    "\n",
    "img.size"
   ]
  },
  {
   "cell_type": "code",
   "execution_count": null,
   "metadata": {
    "execution": {
     "iopub.execute_input": "2021-06-13T03:20:05.937961Z",
     "iopub.status.busy": "2021-06-13T03:20:05.937645Z",
     "iopub.status.idle": "2021-06-13T03:20:05.943945Z",
     "shell.execute_reply": "2021-06-13T03:20:05.94223Z",
     "shell.execute_reply.started": "2021-06-13T03:20:05.937922Z"
    }
   },
   "outputs": [],
   "source": [
    "import torchvision.transforms as transforms\n",
    "my_transform = transforms.Compose([\n",
    "    transforms.Resize((299,299)),\n",
    "    transforms.ToTensor(),\n",
    "#     transforms.Normalize(mean=[0.485, 0.456, 0.406], std=[0.229, 0.224, 0.225]),\n",
    "])"
   ]
  },
  {
   "cell_type": "code",
   "execution_count": null,
   "metadata": {
    "execution": {
     "iopub.execute_input": "2021-06-13T03:20:05.945947Z",
     "iopub.status.busy": "2021-06-13T03:20:05.945633Z",
     "iopub.status.idle": "2021-06-13T03:20:05.957048Z",
     "shell.execute_reply": "2021-06-13T03:20:05.955676Z",
     "shell.execute_reply.started": "2021-06-13T03:20:05.945915Z"
    }
   },
   "outputs": [],
   "source": [
    "import torch\n",
    "\n",
    "class retinaDataset(Dataset):\n",
    "    def __init__(self, imagepath=\"../input/diabetic-retinopathy-resized/resized_train_cropped/resized_train_cropped\", total=None,transform=my_transform):\n",
    "        self.df = pd.read_csv(\"../input/diabetic-retinopathy-resized/trainLabels_cropped.csv\")\n",
    "        \n",
    "        if (total is not None):\n",
    "            self.df = self.df[:total]\n",
    "        \n",
    "        self.transform = transform\n",
    "        \n",
    "        self.imagepath = imagepath\n",
    "        \n",
    "    def __len__(self):\n",
    "        return len(self.df)\n",
    "    \n",
    "    def __getitem__(self, index):\n",
    "        img_path = os.path.join(self.imagepath, self.df.iloc[index].image +\".jpeg\")\n",
    "        img = Image.open(img_path)\n",
    "        \n",
    "        if(self.transform):\n",
    "            img = self.transform(img)\n",
    "        \n",
    "        return img, torch.tensor(self.df.iloc[index].level)\n"
   ]
  },
  {
   "cell_type": "code",
   "execution_count": null,
   "metadata": {
    "execution": {
     "iopub.execute_input": "2021-06-13T03:20:05.95888Z",
     "iopub.status.busy": "2021-06-13T03:20:05.958484Z",
     "iopub.status.idle": "2021-06-13T03:20:06.002864Z",
     "shell.execute_reply": "2021-06-13T03:20:06.002039Z",
     "shell.execute_reply.started": "2021-06-13T03:20:05.958846Z"
    }
   },
   "outputs": [],
   "source": [
    "train_dataset = retinaDataset(total=5000)"
   ]
  },
  {
   "cell_type": "code",
   "execution_count": null,
   "metadata": {
    "execution": {
     "iopub.execute_input": "2021-06-13T03:20:06.004576Z",
     "iopub.status.busy": "2021-06-13T03:20:06.004101Z",
     "iopub.status.idle": "2021-06-13T03:20:06.215607Z",
     "shell.execute_reply": "2021-06-13T03:20:06.214554Z",
     "shell.execute_reply.started": "2021-06-13T03:20:06.004541Z"
    }
   },
   "outputs": [],
   "source": [
    "img, label = train_dataset[0]\n",
    "\n",
    "plt.imshow(img.permute(1,2,0))\n",
    "img.shape, label, train_dataset.__len__()"
   ]
  },
  {
   "cell_type": "code",
   "execution_count": null,
   "metadata": {
    "execution": {
     "iopub.execute_input": "2021-06-13T03:20:06.217294Z",
     "iopub.status.busy": "2021-06-13T03:20:06.217Z",
     "iopub.status.idle": "2021-06-13T03:20:06.221364Z",
     "shell.execute_reply": "2021-06-13T03:20:06.220737Z",
     "shell.execute_reply.started": "2021-06-13T03:20:06.217265Z"
    }
   },
   "outputs": [],
   "source": [
    "num_classes = 5\n",
    "learning_rate = 1e-4\n",
    "num_epochs = 1\n",
    "device = torch.device('cuda' if torch.cuda.is_available() else 'cpu')"
   ]
  },
  {
   "cell_type": "code",
   "execution_count": null,
   "metadata": {
    "execution": {
     "iopub.execute_input": "2021-06-13T03:20:06.224127Z",
     "iopub.status.busy": "2021-06-13T03:20:06.223635Z",
     "iopub.status.idle": "2021-06-13T03:20:06.579048Z",
     "shell.execute_reply": "2021-06-13T03:20:06.578192Z",
     "shell.execute_reply.started": "2021-06-13T03:20:06.224095Z"
    }
   },
   "outputs": [],
   "source": [
    "from torchvision.models import inception_v3\n",
    "\n",
    "model = inception_v3(pretrained=True)\n",
    "\n",
    "for param in model.parameters():\n",
    "    param.requires_grad = False\n",
    "    \n",
    "model.fc"
   ]
  },
  {
   "cell_type": "code",
   "execution_count": null,
   "metadata": {
    "execution": {
     "iopub.execute_input": "2021-06-13T03:20:06.581457Z",
     "iopub.status.busy": "2021-06-13T03:20:06.580806Z",
     "iopub.status.idle": "2021-06-13T03:20:06.586687Z",
     "shell.execute_reply": "2021-06-13T03:20:06.585648Z",
     "shell.execute_reply.started": "2021-06-13T03:20:06.58141Z"
    }
   },
   "outputs": [],
   "source": [
    "model.fc = torch.nn.Linear(in_features=2048, out_features=5, bias=True)"
   ]
  },
  {
   "cell_type": "code",
   "execution_count": null,
   "metadata": {
    "execution": {
     "iopub.execute_input": "2021-06-13T03:20:06.588614Z",
     "iopub.status.busy": "2021-06-13T03:20:06.588194Z",
     "iopub.status.idle": "2021-06-13T03:20:06.598094Z",
     "shell.execute_reply": "2021-06-13T03:20:06.597101Z",
     "shell.execute_reply.started": "2021-06-13T03:20:06.588571Z"
    }
   },
   "outputs": [],
   "source": [
    "model.aux_logits = False"
   ]
  },
  {
   "cell_type": "code",
   "execution_count": null,
   "metadata": {
    "execution": {
     "iopub.execute_input": "2021-06-13T03:20:06.600161Z",
     "iopub.status.busy": "2021-06-13T03:20:06.599671Z",
     "iopub.status.idle": "2021-06-13T03:20:06.616463Z",
     "shell.execute_reply": "2021-06-13T03:20:06.615511Z",
     "shell.execute_reply.started": "2021-06-13T03:20:06.600117Z"
    }
   },
   "outputs": [],
   "source": [
    "model = model.to(device=device)"
   ]
  },
  {
   "cell_type": "code",
   "execution_count": null,
   "metadata": {
    "execution": {
     "iopub.execute_input": "2021-06-13T03:20:06.618052Z",
     "iopub.status.busy": "2021-06-13T03:20:06.617764Z",
     "iopub.status.idle": "2021-06-13T03:20:06.628942Z",
     "shell.execute_reply": "2021-06-13T03:20:06.627975Z",
     "shell.execute_reply.started": "2021-06-13T03:20:06.618022Z"
    }
   },
   "outputs": [],
   "source": [
    "model"
   ]
  },
  {
   "cell_type": "code",
   "execution_count": null,
   "metadata": {
    "execution": {
     "iopub.execute_input": "2021-06-13T03:20:06.630505Z",
     "iopub.status.busy": "2021-06-13T03:20:06.630221Z",
     "iopub.status.idle": "2021-06-13T03:20:06.643187Z",
     "shell.execute_reply": "2021-06-13T03:20:06.642342Z",
     "shell.execute_reply.started": "2021-06-13T03:20:06.630478Z"
    }
   },
   "outputs": [],
   "source": [
    "optimizer = torch.optim.Adam(model.parameters(), lr = learning_rate)\n",
    "loss_criterion = torch.nn.CrossEntropyLoss()"
   ]
  },
  {
   "cell_type": "code",
   "execution_count": null,
   "metadata": {
    "execution": {
     "iopub.execute_input": "2021-06-13T03:20:06.644873Z",
     "iopub.status.busy": "2021-06-13T03:20:06.644508Z",
     "iopub.status.idle": "2021-06-13T03:20:06.654436Z",
     "shell.execute_reply": "2021-06-13T03:20:06.65342Z",
     "shell.execute_reply.started": "2021-06-13T03:20:06.644757Z"
    }
   },
   "outputs": [],
   "source": [
    "batch_size = 32"
   ]
  },
  {
   "cell_type": "code",
   "execution_count": null,
   "metadata": {
    "execution": {
     "iopub.execute_input": "2021-06-13T03:20:06.656093Z",
     "iopub.status.busy": "2021-06-13T03:20:06.655739Z",
     "iopub.status.idle": "2021-06-13T03:20:06.666948Z",
     "shell.execute_reply": "2021-06-13T03:20:06.665902Z",
     "shell.execute_reply.started": "2021-06-13T03:20:06.656064Z"
    }
   },
   "outputs": [],
   "source": [
    "train_dataloader = DataLoader(dataset=train_dataset, batch_size=batch_size, shuffle=True)"
   ]
  },
  {
   "cell_type": "code",
   "execution_count": null,
   "metadata": {
    "execution": {
     "iopub.execute_input": "2021-06-13T03:31:54.89138Z",
     "iopub.status.busy": "2021-06-13T03:31:54.891046Z",
     "iopub.status.idle": "2021-06-13T03:50:19.88393Z",
     "shell.execute_reply": "2021-06-13T03:50:19.882884Z",
     "shell.execute_reply.started": "2021-06-13T03:31:54.891351Z"
    }
   },
   "outputs": [],
   "source": [
    "from tqdm import tqdm\n",
    "\n",
    "for epoch in range(num_epochs):\n",
    "    for data, target in tqdm(train_dataloader):\n",
    "        data = data.to(device=device)\n",
    "        target = target.to(device=device)\n",
    "        \n",
    "        score = model(data)\n",
    "        optimizer.zero_grad()\n",
    "        \n",
    "        loss = loss_criterion(score, target)\n",
    "        loss.backward()\n",
    "        \n",
    "        optimizer.step()\n",
    "    \n",
    "    print(f\"for epoch {epoch}, loss : {loss}\")\n",
    "    "
   ]
  },
  {
   "cell_type": "code",
   "execution_count": null,
   "metadata": {
    "execution": {
     "iopub.execute_input": "2021-06-13T04:02:51.069598Z",
     "iopub.status.busy": "2021-06-13T04:02:51.069191Z",
     "iopub.status.idle": "2021-06-13T04:02:51.077157Z",
     "shell.execute_reply": "2021-06-13T04:02:51.075634Z",
     "shell.execute_reply.started": "2021-06-13T04:02:51.069567Z"
    }
   },
   "outputs": [],
   "source": [
    "def check_accuracy(model, loader):\n",
    "    model.eval()\n",
    "    \n",
    "    correct_output = 0\n",
    "    total_output = 0\n",
    "    \n",
    "    with torch.no_grad():\n",
    "        for x, y in tqdm(loader):\n",
    "            x = x.to(device=device)\n",
    "            y = y.to(device=device)\n",
    "            \n",
    "            score = model(x)\n",
    "            _,predictions = score.max(1)\n",
    "            \n",
    "            correct_output += (y==predictions).sum()\n",
    "            total_output += predictions.shape[0]\n",
    "    model.train()\n",
    "    print(f\"out of {total_output} , total correct: {correct_output} with an accuracy of {float(correct_output/total_output)*100}\")"
   ]
  },
  {
   "cell_type": "code",
   "execution_count": null,
   "metadata": {
    "execution": {
     "iopub.execute_input": "2021-06-13T04:02:56.721484Z",
     "iopub.status.busy": "2021-06-13T04:02:56.721135Z",
     "iopub.status.idle": "2021-06-13T04:20:06.43878Z",
     "shell.execute_reply": "2021-06-13T04:20:06.437776Z",
     "shell.execute_reply.started": "2021-06-13T04:02:56.721455Z"
    }
   },
   "outputs": [],
   "source": [
    "check_accuracy(model, train_dataloader)"
   ]
  },
  {
   "cell_type": "code",
   "execution_count": null,
   "metadata": {
    "execution": {
     "iopub.execute_input": "2021-06-13T04:49:48.904638Z",
     "iopub.status.busy": "2021-06-13T04:49:48.904171Z",
     "iopub.status.idle": "2021-06-13T04:49:49.565293Z",
     "shell.execute_reply": "2021-06-13T04:49:49.56447Z",
     "shell.execute_reply.started": "2021-06-13T04:49:48.904601Z"
    }
   },
   "outputs": [],
   "source": [
    "image = Image.open(\"../input/diabetic-retinopathy-resized/resized_train_cropped/resized_train_cropped/10007_right.jpeg\")\n",
    "\n",
    "img = my_transform(image).unsqueeze(0)\n",
    "\n",
    "score = model(img)\n",
    "\n",
    "_, predictions = score.max(1)\n",
    "\n",
    "plt.imshow(image)\n",
    "\n",
    "print(\"predicted: \", predictions)\n",
    "\n",
    "df = pd.read_csv(\"../input/diabetic-retinopathy-resized/trainLabels_cropped.csv\")\n",
    "\n",
    "# print(df[image][:5])\n",
    "# print(df.loc[df[image]==\"10_left\"].level)\n",
    "print(\"actual: \", df.loc[df['image'].isin(['10007_right'])].level)\n"
   ]
  }
 ],
 "metadata": {
  "kernelspec": {
   "display_name": "Python 3",
   "language": "python",
   "name": "python3"
  },
  "language_info": {
   "codemirror_mode": {
    "name": "ipython",
    "version": 3
   },
   "file_extension": ".py",
   "mimetype": "text/x-python",
   "name": "python",
   "nbconvert_exporter": "python",
   "pygments_lexer": "ipython3",
   "version": "3.8.4"
  }
 },
 "nbformat": 4,
 "nbformat_minor": 4
}
